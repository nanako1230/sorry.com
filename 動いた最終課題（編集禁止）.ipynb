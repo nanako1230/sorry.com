{
 "cells": [
  {
   "cell_type": "markdown",
   "metadata": {
    "cell_id": "c5782418188d433896c5033c8dcf4837",
    "deepnote_cell_type": "markdown",
    "id": "3_uWVRpy8jK-"
   },
   "source": []
  },
  {
   "cell_type": "markdown",
   "metadata": {
    "cell_id": "0afe4d95166745a58e8403de87ec27ee",
    "deepnote_cell_type": "text-cell-p",
    "formattedRanges": []
   },
   "source": [
    "動作確認用。基本的に、ngrokトークンを変える以外の変更はしないでいただけるとありがたいです！"
   ]
  },
  {
   "cell_type": "markdown",
   "metadata": {
    "cell_id": "5be9e007362c4688b1a49c31fbf8095d",
    "deepnote_cell_type": "text-cell-h1",
    "formattedRanges": []
   },
   "source": [
    "# 1.　ngrokのauth_tokeを設定して前回の内容を実行[事前準備、設定]"
   ]
  },
  {
   "cell_type": "code",
   "execution_count": null,
   "metadata": {
    "cell_id": "282013fa1d224cc8861f332da8498170",
    "colab": {
     "base_uri": "https://localhost:8080/"
    },
    "deepnote_cell_type": "code",
    "execution_context_id": "0de5b298-c545-4f4d-8970-c5bba49273eb",
    "execution_millis": 3499,
    "execution_start": 1736258531539,
    "id": "mJxNWy4zN7wm",
    "outputId": "ed4ea1e1-47a8-43f8-889e-b929857ca40a",
    "source_hash": "94574d87"
   },
   "outputs": [
    {
     "name": "stdout",
     "output_type": "stream",
     "text": [
      "Requirement already satisfied: pip in /root/venv/lib/python3.9/site-packages (24.3.1)\n",
      "Requirement already satisfied: flask in /root/venv/lib/python3.9/site-packages (3.1.0)\n",
      "Requirement already satisfied: pyngrok in /root/venv/lib/python3.9/site-packages (7.2.2)\n",
      "Requirement already satisfied: Werkzeug>=3.1 in /root/venv/lib/python3.9/site-packages (from flask) (3.1.3)\n",
      "Requirement already satisfied: Jinja2>=3.1.2 in /shared-libs/python3.9/py-core/lib/python3.9/site-packages (from flask) (3.1.2)\n",
      "Requirement already satisfied: itsdangerous>=2.2 in /root/venv/lib/python3.9/site-packages (from flask) (2.2.0)\n",
      "Requirement already satisfied: click>=8.1.3 in /shared-libs/python3.9/py/lib/python3.9/site-packages (from flask) (8.1.3)\n",
      "Requirement already satisfied: blinker>=1.9 in /root/venv/lib/python3.9/site-packages (from flask) (1.9.0)\n",
      "Requirement already satisfied: importlib-metadata>=3.6 in /shared-libs/python3.9/py/lib/python3.9/site-packages (from flask) (5.0.0)\n",
      "Requirement already satisfied: PyYAML>=5.1 in /root/venv/lib/python3.9/site-packages (from pyngrok) (6.0.2)\n",
      "Requirement already satisfied: zipp>=0.5 in /shared-libs/python3.9/py/lib/python3.9/site-packages (from importlib-metadata>=3.6->flask) (3.9.0)\n",
      "Requirement already satisfied: MarkupSafe>=2.0 in /shared-libs/python3.9/py-core/lib/python3.9/site-packages (from Jinja2>=3.1.2->flask) (2.0.0)\n",
      "Collecting MarkupSafe>=2.0 (from Jinja2>=3.1.2->flask)\n",
      "  Using cached MarkupSafe-3.0.2-cp39-cp39-manylinux_2_17_x86_64.manylinux2014_x86_64.whl.metadata (4.0 kB)\n",
      "Using cached MarkupSafe-3.0.2-cp39-cp39-manylinux_2_17_x86_64.manylinux2014_x86_64.whl (20 kB)\n",
      "Installing collected packages: MarkupSafe\n",
      "  Attempting uninstall: MarkupSafe\n",
      "    Found existing installation: MarkupSafe 2.0.0\n",
      "    Not uninstalling markupsafe at /shared-libs/python3.9/py-core/lib/python3.9/site-packages, outside environment /root/venv\n",
      "    Can't uninstall 'MarkupSafe'. No files were found to uninstall.\n",
      "Successfully installed MarkupSafe-3.0.2\n"
     ]
    }
   ],
   "source": [
    "#@title #1.　ngrokのauth_tokeを設定して前回の内容を実行[事前準備、設定]\n",
    "\n",
    "!pip install --upgrade pip #12/27 21:46追加\n",
    "\n",
    "# 1,2 Flask, pyngrokのインストール\n",
    "!pip install flask pyngrok\n",
    "#  必要なモジュールのimport\n",
    "import os\n",
    "# flaskからFlaskクラスをインポート\n",
    "from flask import Flask\n",
    "# pyngrokからngrokモジュールとconfモジュールをインポート\n",
    "from pyngrok import ngrok, conf\n",
    "# 設定\n",
    "# ngrokトークンを設定\n",
    "conf.get_default().auth_token = \"\" #ここに自分のNgrokトークンを入れてください！！！！！\n"
   ]
  },
  {
   "cell_type": "markdown",
   "metadata": {
    "cell_id": "33ca81441e0048a88f8c48a640e1995e",
    "deepnote_cell_type": "text-cell-h2",
    "formattedRanges": []
   },
   "source": [
    "## 1-2 Flask-SQLAlchemyのインストール"
   ]
  },
  {
   "cell_type": "code",
   "execution_count": 2,
   "metadata": {
    "cell_id": "6febc57fbc54408fa4309d5a2c6f358d",
    "colab": {
     "base_uri": "https://localhost:8080/"
    },
    "deepnote_cell_type": "code",
    "execution_context_id": "0de5b298-c545-4f4d-8970-c5bba49273eb",
    "execution_millis": 2034,
    "execution_start": 1736258535090,
    "id": "F88Oqz7PERzS",
    "outputId": "c85cfbed-551e-479b-cd4a-53a3104919f3",
    "source_hash": "ba2f413"
   },
   "outputs": [
    {
     "name": "stdout",
     "output_type": "stream",
     "text": [
      "Requirement already satisfied: flask-sqlalchemy in /root/venv/lib/python3.9/site-packages (3.1.1)\n",
      "Requirement already satisfied: flask>=2.2.5 in /root/venv/lib/python3.9/site-packages (from flask-sqlalchemy) (3.1.0)\n",
      "Requirement already satisfied: sqlalchemy>=2.0.16 in /root/venv/lib/python3.9/site-packages (from flask-sqlalchemy) (2.0.36)\n",
      "Requirement already satisfied: Werkzeug>=3.1 in /root/venv/lib/python3.9/site-packages (from flask>=2.2.5->flask-sqlalchemy) (3.1.3)\n",
      "Requirement already satisfied: Jinja2>=3.1.2 in /shared-libs/python3.9/py-core/lib/python3.9/site-packages (from flask>=2.2.5->flask-sqlalchemy) (3.1.2)\n",
      "Requirement already satisfied: itsdangerous>=2.2 in /root/venv/lib/python3.9/site-packages (from flask>=2.2.5->flask-sqlalchemy) (2.2.0)\n",
      "Requirement already satisfied: click>=8.1.3 in /shared-libs/python3.9/py/lib/python3.9/site-packages (from flask>=2.2.5->flask-sqlalchemy) (8.1.3)\n",
      "Requirement already satisfied: blinker>=1.9 in /root/venv/lib/python3.9/site-packages (from flask>=2.2.5->flask-sqlalchemy) (1.9.0)\n",
      "Requirement already satisfied: importlib-metadata>=3.6 in /shared-libs/python3.9/py/lib/python3.9/site-packages (from flask>=2.2.5->flask-sqlalchemy) (5.0.0)\n",
      "Requirement already satisfied: typing-extensions>=4.6.0 in /root/venv/lib/python3.9/site-packages (from sqlalchemy>=2.0.16->flask-sqlalchemy) (4.12.2)\n",
      "Requirement already satisfied: greenlet!=0.4.17 in /shared-libs/python3.9/py/lib/python3.9/site-packages (from sqlalchemy>=2.0.16->flask-sqlalchemy) (1.1.3.post0)\n",
      "Requirement already satisfied: zipp>=0.5 in /shared-libs/python3.9/py/lib/python3.9/site-packages (from importlib-metadata>=3.6->flask>=2.2.5->flask-sqlalchemy) (3.9.0)\n",
      "Requirement already satisfied: MarkupSafe>=2.0 in /shared-libs/python3.9/py-core/lib/python3.9/site-packages (from Jinja2>=3.1.2->flask>=2.2.5->flask-sqlalchemy) (2.0.0)\n",
      "Collecting MarkupSafe>=2.0 (from Jinja2>=3.1.2->flask>=2.2.5->flask-sqlalchemy)\n",
      "  Using cached MarkupSafe-3.0.2-cp39-cp39-manylinux_2_17_x86_64.manylinux2014_x86_64.whl.metadata (4.0 kB)\n",
      "Using cached MarkupSafe-3.0.2-cp39-cp39-manylinux_2_17_x86_64.manylinux2014_x86_64.whl (20 kB)\n",
      "Installing collected packages: MarkupSafe\n",
      "  Attempting uninstall: MarkupSafe\n",
      "    Found existing installation: MarkupSafe 2.0.0\n",
      "    Not uninstalling markupsafe at /shared-libs/python3.9/py-core/lib/python3.9/site-packages, outside environment /root/venv\n",
      "    Can't uninstall 'MarkupSafe'. No files were found to uninstall.\n",
      "Successfully installed MarkupSafe-3.0.2\n"
     ]
    }
   ],
   "source": [
    "# @title 1-2 Flask-SQLAlchemyのインストール\n",
    "!pip install --upgrade flask-sqlalchemy"
   ]
  },
  {
   "cell_type": "markdown",
   "metadata": {
    "cell_id": "10cb8281eb0f4b96a6e42a00213ac3cf",
    "deepnote_cell_type": "text-cell-h2",
    "formattedRanges": []
   },
   "source": [
    "## 1-3 OpenAIライブラリのインストール"
   ]
  },
  {
   "cell_type": "code",
   "execution_count": 3,
   "metadata": {
    "cell_id": "8672dda67bab4d8bb8f7aab3e0853893",
    "colab": {
     "base_uri": "https://localhost:8080/"
    },
    "deepnote_cell_type": "code",
    "execution_context_id": "0de5b298-c545-4f4d-8970-c5bba49273eb",
    "execution_millis": 1768,
    "execution_start": 1736258537174,
    "id": "kzf9gmtDx9CO",
    "outputId": "8edcbc52-6e7d-41c6-fe6d-101678177b45",
    "source_hash": "d84b248d"
   },
   "outputs": [
    {
     "name": "stdout",
     "output_type": "stream",
     "text": [
      "Requirement already satisfied: openai==1.55.3 in /root/venv/lib/python3.9/site-packages (1.55.3)\n",
      "Requirement already satisfied: httpx==0.27.2 in /root/venv/lib/python3.9/site-packages (0.27.2)\n",
      "Collecting anyio==3.7.0\n",
      "  Using cached anyio-3.7.0-py3-none-any.whl.metadata (4.7 kB)\n",
      "Requirement already satisfied: distro<2,>=1.7.0 in /root/venv/lib/python3.9/site-packages (from openai==1.55.3) (1.9.0)\n",
      "Requirement already satisfied: jiter<1,>=0.4.0 in /root/venv/lib/python3.9/site-packages (from openai==1.55.3) (0.8.2)\n",
      "Requirement already satisfied: pydantic<3,>=1.9.0 in /shared-libs/python3.9/py/lib/python3.9/site-packages (from openai==1.55.3) (1.10.2)\n",
      "Requirement already satisfied: sniffio in /shared-libs/python3.9/py-core/lib/python3.9/site-packages (from openai==1.55.3) (1.3.0)\n",
      "Requirement already satisfied: tqdm>4 in /shared-libs/python3.9/py/lib/python3.9/site-packages (from openai==1.55.3) (4.64.1)\n",
      "Requirement already satisfied: typing-extensions<5,>=4.11 in /root/venv/lib/python3.9/site-packages (from openai==1.55.3) (4.12.2)\n",
      "Requirement already satisfied: certifi in /shared-libs/python3.9/py/lib/python3.9/site-packages (from httpx==0.27.2) (2022.9.24)\n",
      "Requirement already satisfied: httpcore==1.* in /root/venv/lib/python3.9/site-packages (from httpx==0.27.2) (1.0.7)\n",
      "Requirement already satisfied: idna in /shared-libs/python3.9/py-core/lib/python3.9/site-packages (from httpx==0.27.2) (3.4)\n",
      "Requirement already satisfied: exceptiongroup in /root/venv/lib/python3.9/site-packages (from anyio==3.7.0) (1.2.2)\n",
      "Requirement already satisfied: h11<0.15,>=0.13 in /root/venv/lib/python3.9/site-packages (from httpcore==1.*->httpx==0.27.2) (0.14.0)\n",
      "Using cached anyio-3.7.0-py3-none-any.whl (80 kB)\n",
      "Installing collected packages: anyio\n",
      "  Attempting uninstall: anyio\n",
      "    Found existing installation: anyio 3.6.2\n",
      "    Not uninstalling anyio at /shared-libs/python3.9/py-core/lib/python3.9/site-packages, outside environment /root/venv\n",
      "    Can't uninstall 'anyio'. No files were found to uninstall.\n",
      "Successfully installed anyio-3.7.0\n"
     ]
    }
   ],
   "source": [
    "# @title #1-3 OpenAIライブラリのインストール\n",
    "# https://platform.openai.com/docs/api-reference/introduction\n",
    "!pip install openai==1.55.3 httpx==0.27.2 anyio==3.7.0"
   ]
  },
  {
   "cell_type": "markdown",
   "metadata": {
    "cell_id": "16708c5e29c54ab9ba47610837d77482",
    "deepnote_cell_type": "text-cell-h2",
    "formattedRanges": []
   },
   "source": [
    "## 4.アプリケーションを初期化する"
   ]
  },
  {
   "cell_type": "code",
   "execution_count": 4,
   "metadata": {
    "cell_id": "c578a6b49de1436aa944b536ebf14a48",
    "deepnote_cell_type": "code",
    "execution_context_id": "0de5b298-c545-4f4d-8970-c5bba49273eb",
    "execution_millis": 1,
    "execution_start": 1736258538994,
    "id": "aE9kOv0_EfsF",
    "source_hash": "c388662f"
   },
   "outputs": [],
   "source": [
    "#@title　#4.アプリケーションを初期化する\n",
    "\n",
    "from flask import g, render_template\n",
    "\n",
    "\n",
    "# テンプレートと静的ファイルの置き場所を定数に代入\n",
    "TEMPLATE_PATH = 'flask_blog_2/templates'\n",
    "STATIC_PATH = 'flask_blog_2/static'\n",
    "# Flaskのインスタンスを作るときにそれを利用してファイルパスを設定する\n",
    "app = Flask(__name__, template_folder=TEMPLATE_PATH, static_folder=STATIC_PATH)"
   ]
  },
  {
   "cell_type": "markdown",
   "metadata": {
    "cell_id": "d644cd29e33444e2a8278ab168ae65c8",
    "deepnote_cell_type": "text-cell-h2",
    "formattedRanges": []
   },
   "source": [
    "## 5.Flask-SQLAlcyemyをアプリに設定をする"
   ]
  },
  {
   "cell_type": "code",
   "execution_count": 5,
   "metadata": {
    "cell_id": "4b3df7ec6e6a4a88b1fd85651b76be7e",
    "deepnote_cell_type": "code",
    "execution_context_id": "0de5b298-c545-4f4d-8970-c5bba49273eb",
    "execution_millis": 236,
    "execution_start": 1736258539042,
    "id": "YEBaUCzqEhLB",
    "source_hash": "34b564b5"
   },
   "outputs": [],
   "source": [
    "#@title　#5.Flask-SQLAlcyemyをアプリに設定をする\n",
    "\n",
    "from flask_sqlalchemy import SQLAlchemy\n",
    "from sqlalchemy.orm import DeclarativeBase\n",
    "\n",
    "class Base(DeclarativeBase):\n",
    "  pass #これは何にもしないと言う意味\n",
    "\n",
    "# SQLAlchemyをインスタンス化\n",
    "db = SQLAlchemy(model_class=Base)\n",
    "\n",
    "# SQLiteデータベースをappに設定する\n",
    "app.config[\"SQLALCHEMY_DATABASE_URI\"] = \"sqlite:///sample_db.sqlite\"\n",
    "#  appを拡張とともに初期化\n",
    "db.init_app(app)"
   ]
  },
  {
   "cell_type": "markdown",
   "metadata": {
    "cell_id": "caa92d1b22444f498617c000e1e43ddc",
    "deepnote_cell_type": "text-cell-h2",
    "formattedRanges": []
   },
   "source": [
    "## 6-1. Tagモデル, Blog_Tagテーブル（中間テーブル）を作る"
   ]
  },
  {
   "cell_type": "code",
   "execution_count": 6,
   "metadata": {
    "cell_id": "6fb224f2e0f4446c899ed64d3d66105e",
    "deepnote_cell_type": "code",
    "execution_context_id": "0de5b298-c545-4f4d-8970-c5bba49273eb",
    "execution_millis": 1,
    "execution_start": 1736258539338,
    "id": "Z12gcZosYWJY",
    "source_hash": "3c0bfdcf"
   },
   "outputs": [],
   "source": [
    "#@title　#7. Tagモデル, Blog_Tagテーブル（中間テーブル）を作る\n",
    "from __future__ import annotations\n",
    "from sqlalchemy import Table\n",
    "from sqlalchemy import ForeignKey\n",
    "from sqlalchemy import Column\n",
    "from sqlalchemy.orm import relationship\n",
    "from sqlalchemy import  DateTime, Integer, String\n",
    "from sqlalchemy.orm import Mapped, mapped_column, validates\n",
    "\n",
    "association_table = Table(\n",
    "    \"blog_tag\",\n",
    "    Base.metadata,\n",
    "    Column(\"blog_id\", ForeignKey(\"blog.id\")),\n",
    "    Column(\"tag_id\", ForeignKey(\"tag.id\")),\n",
    ")\n",
    "\n",
    "class Tag(db.Model):\n",
    "    id: Mapped[int] = mapped_column(primary_key=True)\n",
    "    name: Mapped[str] = mapped_column(nullable=False, unique=True)\n",
    "    created_at: Mapped[int] = db.Column(db.DateTime(timezone=True))\n",
    "\n",
    "    #ここにブログの関連　ああーーーーなるほど一旦整理してずにしてきます！ありがとうございます！！！これでこのあと頑張ってみます！はい！おつかれさmでしたー\n",
    "    blogs: Mapped[list[Blog]] = relationship(secondary=association_table)  #tag -> Blog\n",
    "\n",
    "    @validates(\"name\")\n",
    "    def validate_existance(self, key, value):\n",
    "        if not value:\n",
    "            raise ValueError(key)\n",
    "\n",
    "        return value\n",
    "    def to_json(self):\n",
    "        return {\n",
    "            \"id\": self.id,\n",
    "            \"name\": self.name\n",
    "        }\n",
    "\n"
   ]
  },
  {
   "cell_type": "markdown",
   "metadata": {
    "cell_id": "5ab3813a77b74d3e912d37551da55882",
    "deepnote_cell_type": "text-cell-h2",
    "formattedRanges": []
   },
   "source": [
    "## 6-2. Blogモデルを作る"
   ]
  },
  {
   "cell_type": "code",
   "execution_count": 7,
   "metadata": {
    "cell_id": "6931a044755f44379b317e87aec5eb79",
    "deepnote_cell_type": "code",
    "execution_context_id": "0de5b298-c545-4f4d-8970-c5bba49273eb",
    "execution_millis": 0,
    "execution_start": 1736258539398,
    "id": "R4xKYcr5FAq-",
    "source_hash": "329e4083"
   },
   "outputs": [],
   "source": [
    "#@title　#6. Blogモデルを作る\n",
    "\n",
    "class Blog(db.Model):\n",
    "    id: Mapped[int] = mapped_column(primary_key=True)\n",
    "    title: Mapped[str]  = mapped_column(nullable=False)\n",
    "    body: Mapped[str] = mapped_column(nullable=False)\n",
    "    user_name: Mapped[str] = mapped_column(nullable=False)\n",
    "    created_at: Mapped[int] = db.Column(db.DateTime(timezone=True))\n",
    "    comments = db.relationship('Comment', back_populates='blog') # blog.commentsで関係するコメントを取れる\n",
    "    tags: Mapped[list[Tag]] = relationship(secondary=association_table) #blog.tags\n",
    "\n",
    "    # https://docs.sqlalchemy.org/en/20/orm/mapped_attributes.html#simple-validators\n",
    "    @validates(\"title\", \"body\", \"user_name\")\n",
    "    def validate_existance(self, key, value):\n",
    "        if not value:\n",
    "            raise ValueError(key)\n",
    "\n",
    "        return value"
   ]
  },
  {
   "cell_type": "markdown",
   "metadata": {
    "cell_id": "9b54718af6394341921e28e893de90df",
    "deepnote_cell_type": "text-cell-h2",
    "formattedRanges": []
   },
   "source": [
    "## 6-3.  Commentモデルを作る"
   ]
  },
  {
   "cell_type": "code",
   "execution_count": 8,
   "metadata": {
    "cell_id": "4afb0204acf246ccae37a3ec828d7bf6",
    "deepnote_cell_type": "code",
    "execution_context_id": "0de5b298-c545-4f4d-8970-c5bba49273eb",
    "execution_millis": 0,
    "execution_start": 1736258539450,
    "id": "fE-8jbiH79VG",
    "source_hash": "6f719696"
   },
   "outputs": [],
   "source": [
    "#@title　#6. Commentモデルを作る\n",
    "class Comment(db.Model):\n",
    "    id: Mapped[int] = mapped_column(primary_key=True)\n",
    "    blog_id: Mapped[str]  = mapped_column(db.ForeignKey(Blog.id))\n",
    "    blog = db.relationship('Blog', back_populates='comments') # comment.blogで対象blogを取れる\n",
    "    body: Mapped[str] = mapped_column(nullable=False)\n",
    "    user_name: Mapped[str] = mapped_column(nullable=False)\n",
    "    created_at: Mapped[int] = db.Column(db.DateTime(timezone=True))\n",
    "\n",
    "    @validates(\"blog_id\", \"body\", \"user_name\")\n",
    "    def validate_existance(self, key, value):\n",
    "        if not value:\n",
    "            raise ValueError(key)\n",
    "\n",
    "        return value"
   ]
  },
  {
   "cell_type": "markdown",
   "metadata": {
    "cell_id": "5d9a7977182e47f5a9ebef7577057549",
    "deepnote_cell_type": "text-cell-h2",
    "formattedRanges": []
   },
   "source": [
    "## 7. モデルをもとにテーブルを作成する"
   ]
  },
  {
   "cell_type": "code",
   "execution_count": 9,
   "metadata": {
    "cell_id": "0fae0892d2a7459bb3f4dd5534448858",
    "deepnote_cell_type": "code",
    "execution_context_id": "0de5b298-c545-4f4d-8970-c5bba49273eb",
    "execution_millis": 1372,
    "execution_start": 1736258539500,
    "id": "WzyKxyK2Wupx",
    "source_hash": "91e68842"
   },
   "outputs": [],
   "source": [
    "#@title #7.モデルをもとにテーブルを作成する\n",
    "\n",
    "# アプリケーションが実行されるコンテキスト内で行うという指定のwith\n",
    "with app.app_context():\n",
    "  # db.drop_all() # 今まで作成したテーブルを一度すべて消す。6でBlogモデルに変更を加えてない場合は不要\n",
    "  #  テーブルを作成\n",
    "  db.create_all()"
   ]
  },
  {
   "cell_type": "markdown",
   "metadata": {
    "cell_id": "3590cbe7c5ba4481a35a95f5995999ec",
    "deepnote_cell_type": "text-cell-h2",
    "formattedRanges": []
   },
   "source": [
    "## 8. タグテーブルにデータを入れる"
   ]
  },
  {
   "cell_type": "code",
   "execution_count": 10,
   "metadata": {
    "cell_id": "903004f721ab423ea6cdef0bae54f71e",
    "colab": {
     "base_uri": "https://localhost:8080/"
    },
    "deepnote_cell_type": "code",
    "execution_context_id": "0de5b298-c545-4f4d-8970-c5bba49273eb",
    "execution_millis": 1350,
    "execution_start": 1736258540922,
    "id": "mhSwioxMDlCu",
    "outputId": "909e7bd5-cd86-488a-dc3b-640479641fa5",
    "source_hash": "bcb2c4d0"
   },
   "outputs": [
    {
     "name": "stderr",
     "output_type": "stream",
     "text": [
      "/tmp/ipykernel_1323/2919490625.py:7: SAWarning: relationship 'Blog.tags' will copy column blog.id to column blog_tag.blog_id, which conflicts with relationship(s): 'Tag.blogs' (copies blog.id to blog_tag.blog_id). If this is not the intention, consider if these relationships should be linked with back_populates, or if viewonly=True should be applied to one or more if they are read-only. For the less common case that foreign key constraints are partially overlapping, the orm.foreign() annotation can be used to isolate the columns that should be written towards.   To silence this warning, add the parameter 'overlaps=\"blogs\"' to the 'Blog.tags' relationship. (Background on this warning at: https://sqlalche.me/e/20/qzyx) (This warning originated from the `configure_mappers()` process, which was invoked automatically in response to a user-initiated operation.)\n",
      "  tag = Tag(name=name)\n",
      "/tmp/ipykernel_1323/2919490625.py:7: SAWarning: relationship 'Blog.tags' will copy column tag.id to column blog_tag.tag_id, which conflicts with relationship(s): 'Tag.blogs' (copies tag.id to blog_tag.tag_id). If this is not the intention, consider if these relationships should be linked with back_populates, or if viewonly=True should be applied to one or more if they are read-only. For the less common case that foreign key constraints are partially overlapping, the orm.foreign() annotation can be used to isolate the columns that should be written towards.   To silence this warning, add the parameter 'overlaps=\"blogs\"' to the 'Blog.tags' relationship. (Background on this warning at: https://sqlalche.me/e/20/qzyx) (This warning originated from the `configure_mappers()` process, which was invoked automatically in response to a user-initiated operation.)\n",
      "  tag = Tag(name=name)\n"
     ]
    }
   ],
   "source": [
    "#@title #8. タグテーブルにデータを入れる\n",
    "\n",
    "from sqlalchemy import delete\n",
    "with app.app_context():\n",
    "    db.session.execute(db.delete(Tag)) # 同じデータが作られるのを防ぐために一度全部消す\n",
    "    for name in [\"日記\", \"ガラスペン\", \"文房具\"]:#なるほど\n",
    "        tag = Tag(name=name)\n",
    "        db.session.add(tag)\n",
    "        db.session.commit()"
   ]
  },
  {
   "cell_type": "markdown",
   "metadata": {
    "cell_id": "665884d86d2c4125bbe3bbd8b144b0f9",
    "deepnote_cell_type": "text-cell-h2",
    "formattedRanges": []
   },
   "source": [
    "## 9. アプリケーションでデータを読み出す+テンプレートにデータを渡すプログラミング"
   ]
  },
  {
   "cell_type": "markdown",
   "metadata": {
    "cell_id": "8747fcadc4504ca7a3aa937aa7849db3",
    "deepnote_cell_type": "text-cell-h3",
    "formattedRanges": []
   },
   "source": [
    "### 9-1. ルート/, GET /blogs 一覧画面（フォーム付き）, POST /blogs データ作成機能"
   ]
  },
  {
   "cell_type": "code",
   "execution_count": 11,
   "metadata": {
    "cell_id": "18460504d0ee426c8298cabae0f4cd79",
    "deepnote_cell_type": "code",
    "execution_context_id": "0de5b298-c545-4f4d-8970-c5bba49273eb",
    "execution_millis": 0,
    "execution_start": 1736258542330,
    "id": "PhXVJlAnu2Wj",
    "source_hash": "570779e6"
   },
   "outputs": [],
   "source": [
    "#@title #9-1. ルート/, GET /blogs 一覧画面（フォーム付き）, POST /blogs データ作成機能 （前回と同じ）\n",
    "\n",
    "\n",
    "from datetime import datetime, timedelta\n",
    "from zoneinfo import ZoneInfo\n",
    "from flask import g, render_template, redirect, url_for, request, flash, session\n",
    "\n",
    "#セッションを設定する\n",
    "app.secret_key = 'timestamp'\n",
    "app.permanent_session_lifetime = timedelta(days=5)\n",
    "# /（ルート）にアクセスしたら次に書く関数(home)を実行するという宣言\n",
    "@app.route(\"/\")\n",
    "def home():\n",
    "    return render_template('home.html')\n",
    "\n",
    "# /blogs にHTTPメソッドがGETでアクセスしたblog_index関数を実行する\n",
    "@app.get(\"/blogs\")\n",
    "def blog_index():\n",
    "   #データベースからデータを引き出す（オブジェクトのリストの形で帰ってくる）\n",
    "    # https://msiz07-flask-docs-ja.readthedocs.io/ja/latest/patterns/sqlalchemy.html#declarative\n",
    "    blogs = Blog.query.all()\n",
    "    tags = Tag.query.all()\n",
    "    # テンプレートにblogs変数を渡す\n",
    "    return render_template('blogs.html', blogs = blogs,tags =tags, blog = Blog())\n",
    "\n",
    "# /blogs にHTTPメソッドがPOSTでアクセスしたblog_create関数を実行する\n",
    "@app.post(\"/blogs\")\n",
    "def blog_create():\n",
    "\n",
    "    # フォームの値を取得してバリデーションを行う\n",
    "    title = request.form[\"title\"]\n",
    "    user_name = request.form[\"user_name\"]\n",
    "    body = request.form[\"body\"]\n",
    "    blog = Blog()\n",
    "    try:\n",
    "        blog = Blog(title = title, user_name = user_name, body = body)\n",
    "        db.session.add(blog)\n",
    "        db.session.commit()\n",
    "    except ValueError as ve:\n",
    "      flash(f\"入力が不足しています#{ve}\")\n",
    "    except Exception as e:\n",
    "       flash(f\"予期せぬエラー #{e}\")\n",
    "    blogs =  Blog.query.all()\n",
    "    # blogs.htmlテンプレートを描画\n",
    "    return render_template('blogs.html', blogs = blogs, blog = blog)\n"
   ]
  },
  {
   "cell_type": "markdown",
   "metadata": {
    "cell_id": "ca501dbba4ab46fd8a2ef328bf6f1bda",
    "deepnote_cell_type": "text-cell-h3",
    "formattedRanges": []
   },
   "source": [
    "### 9-2 GET /blogs/:id 更新用フォーム、Post(気持ちはpatch) /blogs/:id 更新処理"
   ]
  },
  {
   "cell_type": "code",
   "execution_count": 12,
   "metadata": {
    "cell_id": "a1d97ad619bb469a966e6de5b6dfb179",
    "deepnote_cell_type": "code",
    "execution_context_id": "0de5b298-c545-4f4d-8970-c5bba49273eb",
    "execution_millis": 0,
    "execution_start": 1736258542386,
    "id": "SD-YguXVEadJ",
    "source_hash": "cfa0de5f"
   },
   "outputs": [],
   "source": [
    "# @title 9-2 GET /blogs/:id 更新用フォーム、Post(気持ちはpatch) /blogs/:id 更新処理\n",
    "\n",
    "@app.get('/blogs/<string:id>')\n",
    "def get_blog(id):\n",
    "    # 指定のidのblogオブジェクトを取得する\n",
    "    blog = db.get_or_404(Blog, id)\n",
    "    # https://flask-sqlalchemy.readthedocs.io/en/3.1.x/queries/#queries-for-views\n",
    "    return render_template('blog.html', blog = blog)\n",
    "\n",
    "@app.post('/blogs/<string:id>')\n",
    "def update_blog(id):\n",
    "    # 指定のidのblogオブジェクトを取得する\n",
    "    blog = db.get_or_404(Blog, id)\n",
    "\n",
    "    # 更新処理の場合\n",
    "    if request.form.get('_method') == 'PATCH':\n",
    "        try:\n",
    "            blog.title = request.form[\"title\"]\n",
    "            blog.user_name = request.form[\"user_name\"]\n",
    "            blog.body = request.form[\"body\"]\n",
    "            db.session.commit()\n",
    "            flash(\"データを更新しました\")\n",
    "        except ValueError as ve:\n",
    "            flash(f\"入力が不足しています#{ve}\")\n",
    "        except Exception as e:\n",
    "            flash(f\"予期せぬエラー #{e}\")\n",
    "        # 編集画面にGETでリダイレクトする\n",
    "        return redirect(url_for(\"get_blog\", id=id))\n",
    "    # 削除リクエストの場合\n",
    "    elif request.form.get('_method') == 'DELETE':\n",
    "        db.session.delete(blog)\n",
    "        db.session.commit()\n",
    "        # 一覧画面にGETでリダイレクトする\n",
    "        return redirect(url_for(\"blog_index\"))"
   ]
  },
  {
   "cell_type": "markdown",
   "metadata": {
    "cell_id": "e80c8021ba2d4f938d28ccb9c0255ebc",
    "deepnote_cell_type": "text-cell-h3",
    "formattedRanges": []
   },
   "source": [
    "### 9-3. GET /comments 一覧画面（フォーム付き）, POST /comments データ作成機能"
   ]
  },
  {
   "cell_type": "code",
   "execution_count": 13,
   "metadata": {
    "cell_id": "dc6bd647c1864df7ae97441ccc26e01a",
    "deepnote_cell_type": "code",
    "execution_context_id": "0de5b298-c545-4f4d-8970-c5bba49273eb",
    "execution_millis": 1,
    "execution_start": 1736258542438,
    "id": "OFG-N6hd4sxY",
    "source_hash": "2996e14f"
   },
   "outputs": [],
   "source": [
    "#@title #9-3. GET /comments 一覧画面（フォーム付き）, POST /comments データ作成機能\n",
    "\n",
    "\n",
    "# /comments にHTTPメソッドがGETでアクセスしたcomment_index関数を実行する\n",
    "@app.get(\"/blogs/<string:blog_id>/comments\")\n",
    "def comment_index(blog_id):\n",
    "    #データベースからデータを引き出す（オブジェクトのリストの形で帰ってくる）\n",
    "    # https://msiz07-flask-docs-ja.readthedocs.io/ja/latest/patterns/sqlalchemy.html#declarative\n",
    "    # URLで指定されたblog_idのblogオブジェクトを取得する\n",
    "    blog = db.get_or_404(Blog, blog_id)\n",
    "    # テンプレートにcomments変数を渡す\n",
    "    return render_template('comments.html', comments = blog.comments, comment = Comment()) #コメントは\n",
    "\n",
    "# /comments にHTTPメソッドがPOSTでアクセスしたcomments_create関数を実行する\n",
    "@app.post(\"/blogs/<string:blog_id>/comments\")\n",
    "def comment_create(blog_id):\n",
    "    # URLで指定されたblog_idのblogオブジェクトを取得する\n",
    "    blog = db.get_or_404(Blog, blog_id)\n",
    "    # フォームの値を取得してCommentモデルのオブジェクトをつくる\n",
    "    user_name = request.form[\"user_name\"]\n",
    "    body = request.form[\"body\"]\n",
    "    try:\n",
    "        comment = Comment(blog_id = blog.id, user_name = user_name, body = body)\n",
    "        db.session.add(comment)\n",
    "        db.session.commit()\n",
    "    except ValueError as ve:\n",
    "      flash(f\"入力が不足しています#{ve}\")\n",
    "    except Exception as e:\n",
    "       flash(f\"予期せぬエラー #{e}\")\n",
    "    # blog詳細画面にリダイレクト\n",
    "    return redirect(url_for(\"get_blog\", id = blog.id))"
   ]
  },
  {
   "cell_type": "markdown",
   "metadata": {
    "cell_id": "eeaabb3d4e2f47c0aa5e92fc63f9a3bc",
    "deepnote_cell_type": "text-cell-h3",
    "formattedRanges": []
   },
   "source": [
    "### 9-4 GET /comments/:id 更新用フォーム、Post(気持ちはpatch) /comments/:id 更新処理"
   ]
  },
  {
   "cell_type": "code",
   "execution_count": 14,
   "metadata": {
    "cell_id": "f4c43e1eb0e341fb83f98a142175fc1b",
    "deepnote_cell_type": "code",
    "execution_context_id": "0de5b298-c545-4f4d-8970-c5bba49273eb",
    "execution_millis": 1,
    "execution_start": 1736258542498,
    "id": "lgrUaz3P4uDK",
    "source_hash": "49ed22e8"
   },
   "outputs": [],
   "source": [
    "# @title #9-4 GET /comments/:id 更新用フォーム、Post(気持ちはpatch) /comments/:id 更新処理\n",
    "\n",
    "@app.get('/blogs/<string:blog_id>/comments/<string:id>')\n",
    "def get_comment(blog_id, id):\n",
    "    # 指定のidのcommentオブジェクトを取得する　comment変数に代入\n",
    "    comment = db.get_or_404(Comment, id)\n",
    "    # https://flask-sqlalchemy.readthedocs.io/en/3.1.x/queries/#queries-for-views\n",
    "    # テンプレートにcomment変数を渡す\n",
    "    return render_template('comment.html', comment = comment)\n",
    "\n",
    "@app.post('/blogs/<string:blog_id>/comments/<string:id>')\n",
    "def update_comment(blog_id, id):\n",
    "    # 指定のidのcommentオブジェクトを取得する　comment変数に代入\n",
    "    comment = db.get_or_404(Comment, id)\n",
    "\n",
    "    # 更新処理の場合\n",
    "    if request.form.get('_method') == 'PATCH':\n",
    "        try:\n",
    "             comment.user_name = request.form[\"user_name\"]\n",
    "             comment.body = request.form[\"body\"]\n",
    "             db.session.commit()\n",
    "             flash(\"データを更新しました\")\n",
    "        except ValueError as ve:\n",
    "             flash(f\"入力が不足しています#{ve}\")\n",
    "        except Exception as e:\n",
    "             flash(f\"予期せぬエラー #{e}\")\n",
    "        # 編集画面にGETでリダイレクトする\n",
    "        return redirect(url_for(\"get_comment\", blog_id=blog_id, id=id))\n",
    "    # 削除リクエストの場合\n",
    "    elif request.form.get('_method') == 'DELETE':\n",
    "        db.session.delete(comment)\n",
    "        db.session.commit()\n",
    "        # 一覧画面にGETでリダイレクトする\n",
    "        return redirect(url_for(\"get_blog\", id = blog_id))"
   ]
  },
  {
   "cell_type": "markdown",
   "metadata": {
    "cell_id": "1f4a64ee604a42738479215e22f6b652",
    "deepnote_cell_type": "markdown",
    "id": "EhIOrf87RjS4"
   },
   "source": [
    "https://flask.palletsprojects.com/en/stable/patterns/javascript/"
   ]
  },
  {
   "cell_type": "markdown",
   "metadata": {
    "cell_id": "242be1ac861045d49cd23081dc9463d1",
    "deepnote_cell_type": "text-cell-h3",
    "formattedRanges": []
   },
   "source": [
    "### 9-4 Post /blogs/:id/tag フォームで送られてきたタグをブログに紐づける"
   ]
  },
  {
   "cell_type": "code",
   "execution_count": 15,
   "metadata": {
    "cell_id": "eea11d3647614f1a8175d0fb5557dea4",
    "deepnote_cell_type": "code",
    "execution_context_id": "0de5b298-c545-4f4d-8970-c5bba49273eb",
    "execution_millis": 0,
    "execution_start": 1736258542555,
    "id": "SoyBnFBlW4SF",
    "source_hash": "46bc1a19"
   },
   "outputs": [],
   "source": [
    "# @title #9-4 Post /blogs/:id/tag フォームで送られてきたタグをブログに紐づける\n",
    "@app.post('/blogs/<string:id>/tag')\n",
    "def create_tag(id):\n",
    "\n",
    "  blog = db.get_or_404(Blog, id)\n",
    "  tag_name = request.form[\"name\"]\n",
    "  tag = Tag.query.filter_by(name=tag_name).first() # nameで登録済みのタグを探す\n",
    "  if tag is None:\n",
    "    tag = Tag(name = tag_name) # もしなければTagを作る\n",
    "    db.session.add(tag)\n",
    "    db.session.commit()\n",
    "  blog.tags.append(tag)  # blogにタグを紐づける\n",
    "  db.session.commit()\n",
    "  # 確認コード例 (SQLAlchemyの場合)\n",
    "  print(blog.tags)  # データベースから取得した後、正しいタグリストが含まれているか\n",
    "\n",
    "  return redirect(url_for(\"get_blog\", id = blog.id))"
   ]
  },
  {
   "cell_type": "markdown",
   "metadata": {
    "cell_id": "94e7d52f1c8e4a8787b8bd6ce91c447c",
    "deepnote_cell_type": "text-cell-h3",
    "formattedRanges": []
   },
   "source": [
    "### 9-5 GET /blogs/:id/recommend_tags 登録しているTagを全部JSONにして返す"
   ]
  },
  {
   "cell_type": "code",
   "execution_count": 16,
   "metadata": {
    "cell_id": "c62335e03098451eb758e277cf1b354c",
    "deepnote_cell_type": "code",
    "execution_context_id": "0de5b298-c545-4f4d-8970-c5bba49273eb",
    "execution_millis": 382,
    "execution_start": 1736258542610,
    "id": "W5rm7_sxQ37y",
    "source_hash": "4bad0879"
   },
   "outputs": [],
   "source": [
    "# @title #9-5 GET /blogs/:id/recommend_tags 登録しているTagを全部JSONにして返す\n",
    "#https://flask.palletsprojects.com/en/stable/patterns/javascript/#return-json-from-views\n",
    "from flask import jsonify\n",
    "from openai import OpenAI\n",
    "\n",
    "def make_pronpt(blog_id):\n",
    "   blog = db.get_or_404(Blog, blog_id)\n",
    "   tags = Tag.query.all()\n",
    "   names = [tag.name for tag in tags]\n",
    "\n",
    "   prompt = f\"現在登録されているタグは{'と'.join(names)}です。以下のブログ記事におすすめのタグを選び、タグ名だけを返答してください。複数選ぶ場合は,区切りで並列してください。もしおすすめの内容がない場合は「該当なし」と回答してください。ブログ記事の内容は以下です。 {blog.body}\"\n",
    "   return prompt\n",
    "\n",
    "@app.get('/blogs/<string:id>/recommend_tags')\n",
    "def recommend_tags(id):\n",
    "   # **注意！　ここに記述した値を外部からアクセスできる場所に置かないこと **\n",
    "   client = OpenAI(\n",
    "      organization='', #\n",
    "      project='',\n",
    "      api_key=''\n",
    "   )\n",
    "   response = client.chat.completions.create(\n",
    "        messages=[\n",
    "            {\n",
    "                \"role\": \"user\",\n",
    "                \"content\": make_pronpt(id),\n",
    "             }\n",
    "        ],\n",
    "        model=\"gpt-4o-mini\", # https://platform.openai.com/docs/models/model-endpoint-compatibility\n",
    "   )\n",
    "\n",
    "   print(response)\n",
    "   recommend_tags = response.choices[0].message.content.split(',')\n",
    "   print(recommend_tags)\n",
    "   return jsonify(recommend_tags)"
   ]
  },
  {
   "cell_type": "markdown",
   "metadata": {
    "cell_id": "428d6aff125b4fc6bc4a3530a3728a27",
    "deepnote_cell_type": "text-cell-h3",
    "formattedRanges": []
   },
   "source": [
    "### 9-6 GET AIによるコメント自動入力を追加する"
   ]
  },
  {
   "cell_type": "code",
   "execution_count": 17,
   "metadata": {
    "cell_id": "f4c31efbf1f345529378951113526d05",
    "deepnote_cell_type": "code",
    "execution_context_id": "0de5b298-c545-4f4d-8970-c5bba49273eb",
    "execution_millis": 1,
    "execution_start": 1736258543038,
    "id": "RUJYxx0CatDQ",
    "source_hash": "39a5ffbb"
   },
   "outputs": [],
   "source": [
    "# @title #9-6 GET AIによるコメント自動入力を追加する\n",
    "#https://flask.palletsprojects.com/en/stable/patterns/javascript/#return-json-from-views\n",
    "# from flask import jsonify\n",
    "# from openai import OpenAI\n",
    "\n",
    "def make_comment_prompt(blog_id):\n",
    "   blog = db.get_or_404(Blog, blog_id)\n",
    "   tags = Tag.query.all()\n",
    "   names = [tag.name for tag in tags]\n",
    "\n",
    "   prompt = f\"以下のブログ記事に対する200文字程度のコメントを考えてください。次に、コメントの投稿者の名前（ひらがな）を考えてください。コメントと投稿者の間には英数のカンマ(,)をひとつ入力してください。ブログ記事の内容は以下です。 {blog.body}\"\n",
    "   print(prompt)\n",
    "\n",
    "   return prompt\n",
    "\n",
    "@app.get('/blogs/<string:id>/make_comment')\n",
    "def make_comment(id):\n",
    "   # **注意！　ここに記述した値を外部からアクセスできる場所に置かないこと **\n",
    "   client = OpenAI(\n",
    "      organization='', #\n",
    "      project='',\n",
    "      api_key=''\n",
    "   )\n",
    "   response = client.chat.completions.create(\n",
    "        messages=[\n",
    "            {\n",
    "                \"role\": \"user\",\n",
    "                \"content\": make_comment_prompt(id),\n",
    "             }\n",
    "        ],\n",
    "        model=\"gpt-4o-mini\", # https://platform.openai.com/docs/models/model-endpoint-compatibility\n",
    "   )\n",
    "   print(response)\n",
    "   # OpenAIのレスポンスからコメントを取得\n",
    "\n",
    "  #  if 'choices' in response and len(response['choices']) > 0:\n",
    "   response_contents = response.choices[0].message.content.split(',')\n",
    "   print(response_contents)\n",
    "   comment = response_contents[0]\n",
    "   print(comment)\n",
    "   name = response_contents[1]\n",
    "   print(name)\n",
    "  #  else:\n",
    "  #   comment = \"コメントなし\"\n",
    "\n",
    "  # コメントを返す\n",
    "   return jsonify({\"comment\": comment,\"name\" : name})"
   ]
  },
  {
   "cell_type": "markdown",
   "metadata": {
    "cell_id": "8c848b14dc24409baa72718e9c5b0f59",
    "deepnote_cell_type": "text-cell-h3",
    "formattedRanges": []
   },
   "source": [
    "### 9-7 検索機能を追加する（未実装）"
   ]
  },
  {
   "cell_type": "code",
   "execution_count": 18,
   "metadata": {
    "cell_id": "f81274b11b774b298a27cb1fe21be47c",
    "deepnote_cell_type": "code",
    "execution_context_id": "0de5b298-c545-4f4d-8970-c5bba49273eb",
    "execution_millis": 0,
    "execution_start": 1736258543086,
    "id": "vut8ZQBgxnJK",
    "source_hash": "44fac28b"
   },
   "outputs": [],
   "source": [
    "# # @title #9-7 検索機能を追加する\n",
    "# @app.get('/blogs/<string:id>/search_tags')\n",
    "\n",
    "# # def search_tags:\n",
    "# # 確認コード例 (SQLAlchemyの場合)\n",
    "# print(blog.tags)  # データベースから取得した後、正しいタグリストが含まれているか\n",
    "\n"
   ]
  },
  {
   "cell_type": "markdown",
   "metadata": {
    "cell_id": "03a9d3441b7f4430a6f8b89c9719a5ec",
    "deepnote_cell_type": "markdown",
    "id": "PSDnOKs02tIW"
   },
   "source": []
  },
  {
   "cell_type": "markdown",
   "metadata": {
    "cell_id": "0a23f07652334079a57013dad025a75e",
    "deepnote_cell_type": "text-cell-h2",
    "formattedRanges": []
   },
   "source": [
    "## 10.アプリケーションを立ち上げる"
   ]
  },
  {
   "cell_type": "code",
   "execution_count": 19,
   "metadata": {
    "cellView": "form",
    "cell_id": "b09e0222376848d9bca0db900742abbf",
    "colab": {
     "base_uri": "https://localhost:8080/"
    },
    "deepnote_cell_type": "code",
    "execution_context_id": "0de5b298-c545-4f4d-8970-c5bba49273eb",
    "execution_millis": 1670893,
    "execution_start": 1736258543141,
    "id": "S4IhqcmUy8X5",
    "outputId": "9ab478b9-46d6-4994-953b-1bdd24e3b5d9",
    "source_hash": "d548fae6"
   },
   "outputs": [
    {
     "name": "stderr",
     "output_type": "stream",
     "text": [
      "t=2025-01-07T14:02:23+0000 lvl=warn msg=\"can't bind default web address, trying alternatives\" obj=web addr=127.0.0.1:4040\n",
      "ngrok URL: NgrokTunnel: \"https://93e2-3-220-159-34.ngrok-free.app\" -> \"http://localhost:8000\"\n",
      " * Serving Flask app '__main__'\n",
      " * Debug mode: off\n",
      "\u001b[31m\u001b[1mWARNING: This is a development server. Do not use it in a production deployment. Use a production WSGI server instead.\u001b[0m\n",
      " * Running on http://127.0.0.1:8000\n",
      "\u001b[33mPress CTRL+C to quit\u001b[0m\n",
      "127.0.0.1 - - [07/Jan/2025 14:02:41] \"GET / HTTP/1.1\" 200 -\n",
      "127.0.0.1 - - [07/Jan/2025 14:02:41] \"\u001b[33mGET /favicon.ico HTTP/1.1\u001b[0m\" 404 -\n",
      "127.0.0.1 - - [07/Jan/2025 14:04:30] \"GET / HTTP/1.1\" 200 -\n",
      "127.0.0.1 - - [07/Jan/2025 14:04:32] \"GET / HTTP/1.1\" 200 -\n",
      "127.0.0.1 - - [07/Jan/2025 14:09:26] \"GET / HTTP/1.1\" 200 -\n",
      "127.0.0.1 - - [07/Jan/2025 14:13:53] \"\u001b[33mGET /favicon.ico HTTP/1.1\u001b[0m\" 404 -\n"
     ]
    }
   ],
   "source": [
    "#@title #10.アプリケーションを立ち上げる\n",
    "\n",
    "if __name__ == \"__main__\":\n",
    "    public_url = ngrok.connect(8000)\n",
    "    print(f\"ngrok URL: {public_url}\")\n",
    "    app.run(port=8000)"
   ]
  }
 ],
 "metadata": {
  "deepnote_app_layout": "powerful-article",
  "deepnote_app_reactivity_enabled": true,
  "deepnote_notebook_id": "1c7b23e1ff6c4996934e6af688c48fb7",
  "language_info": {
   "name": "python"
  }
 },
 "nbformat": 4,
 "nbformat_minor": 0
}
